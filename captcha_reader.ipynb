{
  "nbformat": 4,
  "nbformat_minor": 0,
  "metadata": {
    "colab": {
      "name": "captcha_reader.ipynb",
      "provenance": [],
      "collapsed_sections": [
        "XGZ5fPFr7ip8",
        "zH0jM6LL_njN"
      ],
      "authorship_tag": "ABX9TyMum+8zpTM3XqbAqAPQHCE+",
      "include_colab_link": true
    },
    "kernelspec": {
      "name": "python3",
      "display_name": "Python 3"
    },
    "language_info": {
      "name": "python"
    },
    "accelerator": "GPU"
  },
  "cells": [
    {
      "cell_type": "markdown",
      "metadata": {
        "id": "view-in-github",
        "colab_type": "text"
      },
      "source": [
        "<a href=\"https://colab.research.google.com/github/byein/CAPTCHA_reader/blob/main/captcha_reader.ipynb\" target=\"_parent\"><img src=\"https://colab.research.google.com/assets/colab-badge.svg\" alt=\"Open In Colab\"/></a>"
      ]
    },
    {
      "cell_type": "markdown",
      "source": [
        "이미 완성까지 구현한 코드가 있어 정확도를 좀 더 높이고 효율적으로 동작할 수 있도록 코드 참조<br>\n",
        "https://www.kaggle.com/ritabratanag/captcha-95-accuracy"
      ],
      "metadata": {
        "id": "UTmj-n_K_Ybc"
      }
    },
    {
      "cell_type": "markdown",
      "source": [
        "#Initial Setting For Use Kaggle Data in the Colab\n",
        "\n",
        "https://velog.io/@dunhill741/%EA%B5%AC%EA%B8%80-colab%EC%97%90%EC%84%9C-kaggle-%EB%8D%B0%EC%9D%B4%ED%84%B0-%EC%9D%B4%EC%9A%A9%ED%95%98%EB%8A%94-%EB%B2%95\n",
        "\n"
      ],
      "metadata": {
        "id": "XGZ5fPFr7ip8"
      }
    },
    {
      "cell_type": "code",
      "source": [
        "!pip install kaggle"
      ],
      "metadata": {
        "colab": {
          "base_uri": "https://localhost:8080/"
        },
        "id": "5zBLHOGGCmZ8",
        "outputId": "f1495975-3ec2-4243-b414-ac37b03266ad"
      },
      "execution_count": 1,
      "outputs": [
        {
          "output_type": "stream",
          "name": "stdout",
          "text": [
            "Requirement already satisfied: kaggle in /usr/local/lib/python3.7/dist-packages (1.5.12)\n",
            "Requirement already satisfied: requests in /usr/local/lib/python3.7/dist-packages (from kaggle) (2.23.0)\n",
            "Requirement already satisfied: python-dateutil in /usr/local/lib/python3.7/dist-packages (from kaggle) (2.8.2)\n",
            "Requirement already satisfied: python-slugify in /usr/local/lib/python3.7/dist-packages (from kaggle) (5.0.2)\n",
            "Requirement already satisfied: six>=1.10 in /usr/local/lib/python3.7/dist-packages (from kaggle) (1.15.0)\n",
            "Requirement already satisfied: tqdm in /usr/local/lib/python3.7/dist-packages (from kaggle) (4.62.3)\n",
            "Requirement already satisfied: urllib3 in /usr/local/lib/python3.7/dist-packages (from kaggle) (1.24.3)\n",
            "Requirement already satisfied: certifi in /usr/local/lib/python3.7/dist-packages (from kaggle) (2021.10.8)\n",
            "Requirement already satisfied: text-unidecode>=1.3 in /usr/local/lib/python3.7/dist-packages (from python-slugify->kaggle) (1.3)\n",
            "Requirement already satisfied: idna<3,>=2.5 in /usr/local/lib/python3.7/dist-packages (from requests->kaggle) (2.10)\n",
            "Requirement already satisfied: chardet<4,>=3.0.2 in /usr/local/lib/python3.7/dist-packages (from requests->kaggle) (3.0.4)\n"
          ]
        }
      ]
    },
    {
      "cell_type": "code",
      "source": [
        "from google.colab import files\n",
        "files.upload()"
      ],
      "metadata": {
        "colab": {
          "resources": {
            "http://localhost:8080/nbextensions/google.colab/files.js": {
              "data": "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",
              "ok": true,
              "headers": [
                [
                  "content-type",
                  "application/javascript"
                ]
              ],
              "status": 200,
              "status_text": ""
            }
          },
          "base_uri": "https://localhost:8080/",
          "height": 95
        },
        "id": "3L0KBUrxCtDR",
        "outputId": "cc53c970-86a5-4cdd-e2ca-c1dec6a19497"
      },
      "execution_count": 2,
      "outputs": [
        {
          "output_type": "display_data",
          "data": {
            "text/html": [
              "\n",
              "     <input type=\"file\" id=\"files-52e127de-348b-4b8e-b410-b9fb4908db89\" name=\"files[]\" multiple disabled\n",
              "        style=\"border:none\" />\n",
              "     <output id=\"result-52e127de-348b-4b8e-b410-b9fb4908db89\">\n",
              "      Upload widget is only available when the cell has been executed in the\n",
              "      current browser session. Please rerun this cell to enable.\n",
              "      </output>\n",
              "      <script src=\"/nbextensions/google.colab/files.js\"></script> "
            ],
            "text/plain": [
              "<IPython.core.display.HTML object>"
            ]
          },
          "metadata": {}
        },
        {
          "output_type": "stream",
          "name": "stdout",
          "text": [
            "Saving kaggle.json to kaggle (5).json\n"
          ]
        },
        {
          "output_type": "execute_result",
          "data": {
            "text/plain": [
              "{'kaggle.json': b'{\"username\":\"yebkim\",\"key\":\"9087c0a2cfce87113d835781c46f5915\"}'}"
            ]
          },
          "metadata": {},
          "execution_count": 2
        }
      ]
    },
    {
      "cell_type": "code",
      "source": [
        "!ls -al\n",
        "!mkdir -p ~/.kaggle\n",
        "!ls -al ~/"
      ],
      "metadata": {
        "colab": {
          "base_uri": "https://localhost:8080/"
        },
        "id": "XgmIU7xFC15x",
        "outputId": "c3c653a4-85dd-4d15-906f-8bdcc10ffd43"
      },
      "execution_count": 3,
      "outputs": [
        {
          "output_type": "stream",
          "name": "stdout",
          "text": [
            "total 74580\n",
            "drwxr-xr-x 1 root root     4096 Dec 20 08:30  .\n",
            "drwxr-xr-x 1 root root     4096 Dec 20 08:00  ..\n",
            "-rw-r--r-- 1 root root 58005636 Dec 20 08:30  captcha_recognizer_v1.h5\n",
            "-rw-r--r-- 1 root root 18280840 Dec 20 08:03  captcha-version-2-images.zip\n",
            "drwxr-xr-x 4 root root     4096 Dec  3 14:33  .config\n",
            "-rw-r--r-- 1 root root       62 Dec 20 08:09 'kaggle (1).json'\n",
            "-rw-r--r-- 1 root root       62 Dec 20 08:15 'kaggle (2).json'\n",
            "-rw-r--r-- 1 root root       62 Dec 20 08:20 'kaggle (3).json'\n",
            "-rw-r--r-- 1 root root       62 Dec 20 08:24 'kaggle (4).json'\n",
            "-rw-r--r-- 1 root root       62 Dec 20 08:30 'kaggle (5).json'\n",
            "-rw-r--r-- 1 root root       62 Dec 20 08:03  kaggle.json\n",
            "drwxr-xr-x 1 root root     4096 Dec  3 14:33  sample_data\n",
            "drwxr-xr-x 3 root root    36864 Dec 20 08:03  samples\n",
            "total 68\n",
            "drwx------ 1 root root 4096 Dec 20 08:04 .\n",
            "drwxr-xr-x 1 root root 4096 Dec 20 08:00 ..\n",
            "-r-xr-xr-x 1 root root 1169 Jan  1  2000 .bashrc\n",
            "drwxr-xr-x 1 root root 4096 Dec 14 14:13 .cache\n",
            "drwxr-xr-x 1 root root 4096 Dec 14 14:11 .config\n",
            "drwxr-xr-x 3 root root 4096 Dec  3 14:33 .gsutil\n",
            "drwxr-xr-x 5 root root 4096 Dec 14 14:11 .ipython\n",
            "drwx------ 2 root root 4096 Dec 14 14:11 .jupyter\n",
            "drwxr-xr-x 2 root root 4096 Dec 20 08:03 .kaggle\n",
            "drwxr-xr-x 2 root root 4096 Dec 20 08:00 .keras\n",
            "drwx------ 1 root root 4096 Dec 14 14:11 .local\n",
            "drwxr-xr-x 4 root root 4096 Dec 14 14:11 .npm\n",
            "drwx------ 3 root root 4096 Dec 20 08:04 .nv\n",
            "-rw-r--r-- 1 root root  148 Aug 17  2015 .profile\n",
            "-r-xr-xr-x 1 root root  254 Jan  1  2000 .tmux.conf\n"
          ]
        }
      ]
    },
    {
      "cell_type": "code",
      "source": [
        "!cp kaggle.json ~/.kaggle/kaggle.json\n",
        "!chmod 600 ~/.kaggle/kaggle.json\n",
        "!ls -al ~/.kaggle/"
      ],
      "metadata": {
        "colab": {
          "base_uri": "https://localhost:8080/"
        },
        "id": "WlsVCKrOC4vP",
        "outputId": "7eebc839-2061-4397-9a26-430b9895376e"
      },
      "execution_count": 4,
      "outputs": [
        {
          "output_type": "stream",
          "name": "stdout",
          "text": [
            "total 16\n",
            "drwxr-xr-x 2 root root 4096 Dec 20 08:03 .\n",
            "drwx------ 1 root root 4096 Dec 20 08:04 ..\n",
            "-rw------- 1 root root   62 Dec 20 08:30 kaggle.json\n"
          ]
        }
      ]
    },
    {
      "cell_type": "code",
      "source": [
        "!kaggle datasets download -d fournierp/captcha-version-2-images"
      ],
      "metadata": {
        "colab": {
          "base_uri": "https://localhost:8080/"
        },
        "id": "HJmtESoYDK9N",
        "outputId": "4b2359af-0be6-49b1-db7f-1724f22dd033"
      },
      "execution_count": 5,
      "outputs": [
        {
          "output_type": "stream",
          "name": "stdout",
          "text": [
            "captcha-version-2-images.zip: Skipping, found more recently modified local copy (use --force to force download)\n"
          ]
        }
      ]
    },
    {
      "cell_type": "code",
      "source": [
        "!unzip captcha-version-2-images.zip"
      ],
      "metadata": {
        "colab": {
          "base_uri": "https://localhost:8080/"
        },
        "id": "ok8XLpGlDZsg",
        "outputId": "c2dee0c4-be54-4430-e13b-0ca8fedc565a"
      },
      "execution_count": 6,
      "outputs": [
        {
          "output_type": "stream",
          "name": "stdout",
          "text": [
            "Archive:  captcha-version-2-images.zip\n",
            "replace samples/226md.png? [y]es, [n]o, [A]ll, [N]one, [r]ename: None\n"
          ]
        }
      ]
    },
    {
      "cell_type": "markdown",
      "source": [
        "#Import Required libraries"
      ],
      "metadata": {
        "id": "zH0jM6LL_njN"
      }
    },
    {
      "cell_type": "code",
      "source": [
        "import matplotlib.pyplot as plt\n",
        "import matplotlib.image as img\n",
        "import os\n",
        "import numpy as np\n",
        "import pandas as pd\n",
        "from tensorflow import keras as k\n",
        "from keras.utils import np_utils\n",
        "import cv2\n",
        "from PIL import Image\n",
        "from keras.preprocessing.image import img_to_array, ImageDataGenerator\n",
        "from sklearn.preprocessing import LabelEncoder, OneHotEncoder\n",
        "from sklearn.model_selection import train_test_split\n",
        "from keras.models import Sequential\n",
        "from keras.layers import Activation, MaxPooling2D, Flatten, Conv2D, Dropout, Dense"
      ],
      "metadata": {
        "id": "32XXBaxk_vqp"
      },
      "execution_count": 7,
      "outputs": []
    },
    {
      "cell_type": "markdown",
      "source": [
        "#Loading Dataset and Preprocessing\n",
        "\n",
        "###ADAPTIVE THRESHOLD\n",
        "Adaptive Threshold - 모든 픽셀에 같은 threshold 값 적용.<BR>\n",
        "픽셀의 값이 threshold 값보다 작으면 0, 크면 최대값으로 설정. -> THRESH_BINARY<BR>\n",
        "이미지에서 회색빛 제거.                          \n",
        "<BR>\n",
        "덜 선명하더라도 잡티가 하나도 없기를 원하기 때문에 MEAN이 아닌 ADAPTIVE_THRESH_GAUSSIAN_C 사용.\n",
        "<BR>\n",
        "* 첫번째 아규먼트는 원본 이미지\n",
        "* 두번째 아규먼트는 임계값 이상일 경우 픽셀값\n",
        "* 세번째 아규먼트는 적응형 이진화 타입\n",
        "* 네번째 아규먼트는 이진화 타입\n",
        "* 다섯째 아규먼트는 임계값 계산시 함께 볼 주변 픽셀의 범위를 블럭 크기로 지정\n",
        "* 여섯번째 아규먼트는 평균 또는 가중평균에서 뺄 값 \n",
        "\n",
        "###Open-CV\n",
        "https://hoony-gunputer.tistory.com/entry/opencv-pythonErosion%EA%B3%BC-Dilation\n",
        "\n",
        "https://diyver.tistory.com/61\n",
        "\n",
        "https://diyver.tistory.com/67\n",
        "\n",
        "https://dmcworks-2019-deep-learning.tistory.com/18\n",
        "\n",
        "\n"
      ],
      "metadata": {
        "id": "t-2kL8y4_5YR"
      }
    },
    {
      "cell_type": "code",
      "source": [
        "x=[]\n",
        "y=[]\n",
        "\n",
        "# 데이터가 samples 안에 samples 폴더가 중첩되어 있기 때문에 nested for 문 사용.\n",
        "for dirname, _, filenames in os.walk('samples'):\n",
        "    for filename in filenames:\n",
        "        path=os.path.join(dirname, filename) \n",
        "        \n",
        "# 이미지 전처리 과정\n",
        "#     이미지를 Grayscale로 읽어들여 캡차 이미지에서 색이라는 변수 제거.\n",
        "        image = cv2.imread(path, cv2.IMREAD_GRAYSCALE)\n",
        "\n",
        "#     Adaptive Threshold - 모든 픽셀에 같은 threshold 값 적용.\n",
        "#                          픽셀의 값이 threshold 값보다 작으면 0, 크면 최대값으로 설정. -> THRESH_BINARY\n",
        "#                          -> 이미지에서 회색빛 제거.\n",
        "        image = cv2.adaptiveThreshold(image, 255, cv2.ADAPTIVE_THRESH_GAUSSIAN_C, cv2.THRESH_BINARY, 145, 0)\n",
        "  \n",
        "# - Closing: 전반적인 이미지 개선. 실질적 정확도의 증가. 이 작업을 거치지 않으면 e나 c 와 같은 비슷한 경우 제대로 판별 불가. \n",
        "        kernel = np.ones((5,5),np.uint8)\n",
        "        image = cv2.morphologyEx(image, cv2.MORPH_CLOSE, kernel)\n",
        "\n",
        "# - Opening 사용시 정확도 떨어져 예상결과가 다르게 나와 사용하지 않기로 결정.       \n",
        "        # kernel = np.ones((5,5),np.uint8)\n",
        "        # image = cv2.morphologyEx(image, cv2.MORPH_OPEN, kernel)\n",
        "\n",
        "# - Dilation: 이미지 팽창으로 정확도 높임. 실질적 정확도의 증가. closing과 같이 이 작업을 제대로 거치지 않으면 정확도 떨어짐.\n",
        "        kernel = np.ones((2,2),np.uint8)\n",
        "        image = cv2.dilate(image, kernel, iterations = 1)\n",
        " \n",
        "# - Blur: 가우시안 블러를 사용하여 중앙값에 가중치를 두어 주변을 흐리게 하여 숫자 외 노이즈 제거. 이 코드가 없으면 Blur 처리로 이미 변형이 일어난 경우 판별이 어려움.\n",
        "        image = cv2.GaussianBlur(image, (5,5), 0)\n",
        " \n",
        "\n",
        "# 이미지 사이즈가 동일하게 문자를 하나씩 자르기. 총 5개의 문자로 이뤄져 있기 때문에 5개로 나누어 데이터의 사이즈를 모두 동일하게 처리. 20 * 20의 정사각형 형태로 자름.\n",
        "        x_split=[image[10:50,30:50],image[10:50,50:70],\n",
        "                 image[10:50,70:90],image[10:50,90:110],image[10:50,110:130]]\n",
        "\n",
        "# x에는 이미지 배열을, y에는 라벨을 저장.\n",
        "        for i in range(5):\n",
        "            x.append(img_to_array(Image.fromarray(x_split[i])))\n",
        "            y.append(path[len(path)-9:len(path)-4][i])\n",
        "x=np.array(x)\n",
        "y=np.array(y)\n"
      ],
      "metadata": {
        "id": "0QtoM0aR_4oS"
      },
      "execution_count": 8,
      "outputs": []
    },
    {
      "cell_type": "markdown",
      "source": [
        "#Scaling X values; Label Encoding and One Hot Encoding the labels\n",
        "\n",
        "LabelEncoder - 라벨을 숫자로 반환.\n",
        "OneHotEncoder - 숫자간 가중치 동일하게 처리.\n",
        "\n",
        "https://mizykk.tistory.com/10\n",
        "\n",
        "https://3months.tistory.com/207\n",
        "\n",
        "https://steadiness-193.tistory.com/244\n",
        "\n",
        "https://hwi-doc.tistory.com/entry/%EB%B2%94%EC%A3%BC%ED%98%95-%EB%B3%80%EC%88%98-%EC%B2%98%EB%A6%AC-%EB%B0%A9%EB%B2%95\n",
        "\n",
        "https://deepinsight.tistory.com/165\n",
        "\n",
        "https://khalidpark2029.tistory.com/82\n",
        "\n",
        "\n",
        "test/validation 분리\n",
        "\n",
        "https://teddylee777.github.io/scikit-learn/train-test-split"
      ],
      "metadata": {
        "id": "Ux7Ly71gANuh"
      }
    },
    {
      "cell_type": "code",
      "source": [
        "x=x.astype('float32')\n",
        "x/=255\n",
        "\n",
        "# 0 ~ z 까지 라벨링 되어있는 것들을 숫자로 반환하고 가중치를 동일하게 처리하여 데이터 처리\n",
        "y_le = LabelEncoder().fit_transform(y)\n",
        "y_ohe = OneHotEncoder(sparse = False).fit_transform(y_le.reshape(len(y_le),1))\n",
        "\n",
        "# train과 test 셋으로 나눔. 랜덤으로 나눔.\n",
        "x_train, x_test, y_train, y_test = train_test_split(x, y_ohe, test_size = 0.25, random_state = 42)\n",
        "\n",
        "row, col = x.shape[1],x.shape[2]\n",
        "categories = y_ohe.shape[1]\n",
        "\n",
        "info = {y_le[i] : y[i] for i in range(len(y))}\n"
      ],
      "metadata": {
        "id": "CFr2oUKfAZm3"
      },
      "execution_count": 9,
      "outputs": []
    },
    {
      "cell_type": "markdown",
      "source": [
        "#Creating the CNN architecture\n",
        "\n",
        "https://buomsoo-kim.github.io/keras/2018/05/02/Easy-deep-learning-with-Keras-8.md/\n",
        "\n",
        "https://cheris8.github.io/artificial%20intelligence/DL-Keras-Loss-Function/\n",
        "\n",
        "\n",
        "관련하여 공부하고 정리한 본인 블로그 : https://byein.tistory.com/category/ICT%20%EB%A9%98%ED%86%A0%EB%A7%81/%ED%98%BC%EC%9E%90%20%EA%B3%B5%EB%B6%80%ED%95%98%EB%8A%94%20%EB%A8%B8%EC%8B%A0%EB%9F%AC%EB%8B%9D%2B%EB%94%A5%EB%9F%AC%EB%8B%9D\n",
        "\n",
        "\n",
        "\n",
        "\n"
      ],
      "metadata": {
        "id": "MUPo09I8F9xZ"
      }
    },
    {
      "cell_type": "code",
      "source": [
        "model = Sequential()\n",
        "\n",
        "model.add(Conv2D(filters=16,kernel_size=(3,3), padding='same', input_shape=(row,col,1)))\n",
        "model.add(Activation('relu'))\n",
        "model.add(MaxPooling2D(pool_size = (2,2)))\n",
        "\n",
        "# 더 세부적으로 나눌 수 있지만 충분히 정확하게 동작하여 간단하게 나누기로 결정.\n",
        "\n",
        "model.add(Flatten())\n",
        "model.add(Dropout(0.4))\n",
        "model.add(Dense(1500))\n",
        "model.add(Activation('relu'))\n",
        "model.add(Dropout(0.2))\n",
        "model.add(Dense(categories))\n",
        "model.add(Activation(\"softmax\"))\n",
        "\n",
        "model.compile(loss = 'categorical_crossentropy',\n",
        "              optimizer = 'adam' ,\n",
        "              metrics = ['accuracy'])\n",
        "\n",
        "print(model.summary())\n"
      ],
      "metadata": {
        "colab": {
          "base_uri": "https://localhost:8080/"
        },
        "id": "ydxEN7GvGCuf",
        "outputId": "880d696c-dd77-40d7-a1a0-bd2c9119d323"
      },
      "execution_count": 10,
      "outputs": [
        {
          "output_type": "stream",
          "name": "stdout",
          "text": [
            "Model: \"sequential\"\n",
            "_________________________________________________________________\n",
            " Layer (type)                Output Shape              Param #   \n",
            "=================================================================\n",
            " conv2d (Conv2D)             (None, 40, 20, 16)        160       \n",
            "                                                                 \n",
            " activation (Activation)     (None, 40, 20, 16)        0         \n",
            "                                                                 \n",
            " max_pooling2d (MaxPooling2D  (None, 20, 10, 16)       0         \n",
            " )                                                               \n",
            "                                                                 \n",
            " flatten (Flatten)           (None, 3200)              0         \n",
            "                                                                 \n",
            " dropout (Dropout)           (None, 3200)              0         \n",
            "                                                                 \n",
            " dense (Dense)               (None, 1500)              4801500   \n",
            "                                                                 \n",
            " activation_1 (Activation)   (None, 1500)              0         \n",
            "                                                                 \n",
            " dropout_1 (Dropout)         (None, 1500)              0         \n",
            "                                                                 \n",
            " dense_1 (Dense)             (None, 19)                28519     \n",
            "                                                                 \n",
            " activation_2 (Activation)   (None, 19)                0         \n",
            "                                                                 \n",
            "=================================================================\n",
            "Total params: 4,830,179\n",
            "Trainable params: 4,830,179\n",
            "Non-trainable params: 0\n",
            "_________________________________________________________________\n",
            "None\n"
          ]
        }
      ]
    },
    {
      "cell_type": "markdown",
      "source": [
        "#Fitting and training data into model¶\n",
        "\n",
        "https://sevillabk.github.io/1-batch-epoch/\n",
        "\n",
        "관련하여 공부하고 정리한 본인 블로그 : https://byein.tistory.com/category/ICT%20%EB%A9%98%ED%86%A0%EB%A7%81/%ED%98%BC%EC%9E%90%20%EA%B3%B5%EB%B6%80%ED%95%98%EB%8A%94%20%EB%A8%B8%EC%8B%A0%EB%9F%AC%EB%8B%9D%2B%EB%94%A5%EB%9F%AC%EB%8B%9D"
      ],
      "metadata": {
        "id": "3dwVnB8MGIR7"
      }
    },
    {
      "cell_type": "code",
      "source": [
        "# batch size가 너무 작으면 학습 시간은 오래 걸리면서 정확도가 오히려 떨어졌음. 효율적인 학습을 위해 64 정도로 batch size 설정.\n",
        "# epoch가 200일 때나 100일 때 큰 차이가 없음. 더 효율적인 것은 학습 시간이 더 적은 100으로 판단.\n",
        "batch_size = 64\n",
        "epochs = 100\n",
        "\n",
        "history = model.fit(x_train, y_train,\n",
        "          batch_size=batch_size,\n",
        "          epochs=epochs,\n",
        "          validation_data=(x_test, y_test),\n",
        "          shuffle=True)"
      ],
      "metadata": {
        "colab": {
          "base_uri": "https://localhost:8080/"
        },
        "id": "WuLJAd18GJIm",
        "outputId": "fa5ac2e6-7f79-4f0f-c970-7492b5524671"
      },
      "execution_count": 11,
      "outputs": [
        {
          "output_type": "stream",
          "name": "stdout",
          "text": [
            "Epoch 1/100\n",
            "126/126 [==============================] - 3s 13ms/step - loss: 1.4937 - accuracy: 0.5913 - val_loss: 0.8498 - val_accuracy: 0.7671\n",
            "Epoch 2/100\n",
            "126/126 [==============================] - 1s 11ms/step - loss: 0.7547 - accuracy: 0.7985 - val_loss: 0.6107 - val_accuracy: 0.8348\n",
            "Epoch 3/100\n",
            "126/126 [==============================] - 1s 11ms/step - loss: 0.5713 - accuracy: 0.8475 - val_loss: 0.5030 - val_accuracy: 0.8546\n",
            "Epoch 4/100\n",
            "126/126 [==============================] - 1s 11ms/step - loss: 0.4565 - accuracy: 0.8766 - val_loss: 0.4048 - val_accuracy: 0.8807\n",
            "Epoch 5/100\n",
            "126/126 [==============================] - 1s 10ms/step - loss: 0.3873 - accuracy: 0.8911 - val_loss: 0.3539 - val_accuracy: 0.9043\n",
            "Epoch 6/100\n",
            "126/126 [==============================] - 1s 11ms/step - loss: 0.3181 - accuracy: 0.9099 - val_loss: 0.3167 - val_accuracy: 0.9110\n",
            "Epoch 7/100\n",
            "126/126 [==============================] - 1s 11ms/step - loss: 0.2748 - accuracy: 0.9166 - val_loss: 0.2844 - val_accuracy: 0.9151\n",
            "Epoch 8/100\n",
            "126/126 [==============================] - 1s 9ms/step - loss: 0.2423 - accuracy: 0.9260 - val_loss: 0.2718 - val_accuracy: 0.9185\n",
            "Epoch 9/100\n",
            "126/126 [==============================] - 1s 11ms/step - loss: 0.2106 - accuracy: 0.9345 - val_loss: 0.2287 - val_accuracy: 0.9346\n",
            "Epoch 10/100\n",
            "126/126 [==============================] - 1s 9ms/step - loss: 0.1792 - accuracy: 0.9412 - val_loss: 0.1984 - val_accuracy: 0.9432\n",
            "Epoch 11/100\n",
            "126/126 [==============================] - 1s 9ms/step - loss: 0.1611 - accuracy: 0.9470 - val_loss: 0.1944 - val_accuracy: 0.9387\n",
            "Epoch 12/100\n",
            "126/126 [==============================] - 1s 11ms/step - loss: 0.1386 - accuracy: 0.9558 - val_loss: 0.1773 - val_accuracy: 0.9484\n",
            "Epoch 13/100\n",
            "126/126 [==============================] - 1s 9ms/step - loss: 0.1319 - accuracy: 0.9563 - val_loss: 0.1632 - val_accuracy: 0.9495\n",
            "Epoch 14/100\n",
            "126/126 [==============================] - 1s 10ms/step - loss: 0.1180 - accuracy: 0.9598 - val_loss: 0.1537 - val_accuracy: 0.9574\n",
            "Epoch 15/100\n",
            "126/126 [==============================] - 1s 11ms/step - loss: 0.1029 - accuracy: 0.9662 - val_loss: 0.1563 - val_accuracy: 0.9529\n",
            "Epoch 16/100\n",
            "126/126 [==============================] - 1s 11ms/step - loss: 0.0950 - accuracy: 0.9666 - val_loss: 0.1476 - val_accuracy: 0.9578\n",
            "Epoch 17/100\n",
            "126/126 [==============================] - 1s 9ms/step - loss: 0.0909 - accuracy: 0.9692 - val_loss: 0.1507 - val_accuracy: 0.9578\n",
            "Epoch 18/100\n",
            "126/126 [==============================] - 1s 11ms/step - loss: 0.0841 - accuracy: 0.9722 - val_loss: 0.1366 - val_accuracy: 0.9596\n",
            "Epoch 19/100\n",
            "126/126 [==============================] - 1s 11ms/step - loss: 0.0792 - accuracy: 0.9722 - val_loss: 0.1312 - val_accuracy: 0.9649\n",
            "Epoch 20/100\n",
            "126/126 [==============================] - 2s 15ms/step - loss: 0.0708 - accuracy: 0.9738 - val_loss: 0.1353 - val_accuracy: 0.9641\n",
            "Epoch 21/100\n",
            "126/126 [==============================] - 2s 16ms/step - loss: 0.0719 - accuracy: 0.9750 - val_loss: 0.1365 - val_accuracy: 0.9660\n",
            "Epoch 22/100\n",
            "126/126 [==============================] - 2s 16ms/step - loss: 0.0668 - accuracy: 0.9755 - val_loss: 0.1345 - val_accuracy: 0.9604\n",
            "Epoch 23/100\n",
            "126/126 [==============================] - 2s 13ms/step - loss: 0.0616 - accuracy: 0.9776 - val_loss: 0.1306 - val_accuracy: 0.9656\n",
            "Epoch 24/100\n",
            "126/126 [==============================] - 2s 13ms/step - loss: 0.0647 - accuracy: 0.9769 - val_loss: 0.1370 - val_accuracy: 0.9619\n",
            "Epoch 25/100\n",
            "126/126 [==============================] - 2s 13ms/step - loss: 0.0635 - accuracy: 0.9788 - val_loss: 0.1395 - val_accuracy: 0.9630\n",
            "Epoch 26/100\n",
            "126/126 [==============================] - 2s 14ms/step - loss: 0.0617 - accuracy: 0.9792 - val_loss: 0.1273 - val_accuracy: 0.9671\n",
            "Epoch 27/100\n",
            "126/126 [==============================] - 1s 12ms/step - loss: 0.0555 - accuracy: 0.9804 - val_loss: 0.1336 - val_accuracy: 0.9649\n",
            "Epoch 28/100\n",
            "126/126 [==============================] - 2s 15ms/step - loss: 0.0523 - accuracy: 0.9821 - val_loss: 0.1387 - val_accuracy: 0.9634\n",
            "Epoch 29/100\n",
            "126/126 [==============================] - 2s 13ms/step - loss: 0.0567 - accuracy: 0.9816 - val_loss: 0.1291 - val_accuracy: 0.9712\n",
            "Epoch 30/100\n",
            "126/126 [==============================] - 2s 14ms/step - loss: 0.0464 - accuracy: 0.9844 - val_loss: 0.1351 - val_accuracy: 0.9690\n",
            "Epoch 31/100\n",
            "126/126 [==============================] - 2s 12ms/step - loss: 0.0457 - accuracy: 0.9849 - val_loss: 0.1415 - val_accuracy: 0.9660\n",
            "Epoch 32/100\n",
            "126/126 [==============================] - 2s 12ms/step - loss: 0.0424 - accuracy: 0.9853 - val_loss: 0.1363 - val_accuracy: 0.9656\n",
            "Epoch 33/100\n",
            "126/126 [==============================] - 2s 12ms/step - loss: 0.0446 - accuracy: 0.9844 - val_loss: 0.1303 - val_accuracy: 0.9693\n",
            "Epoch 34/100\n",
            "126/126 [==============================] - 1s 11ms/step - loss: 0.0401 - accuracy: 0.9862 - val_loss: 0.1375 - val_accuracy: 0.9671\n",
            "Epoch 35/100\n",
            "126/126 [==============================] - 1s 11ms/step - loss: 0.0444 - accuracy: 0.9853 - val_loss: 0.1247 - val_accuracy: 0.9708\n",
            "Epoch 36/100\n",
            "126/126 [==============================] - 2s 12ms/step - loss: 0.0369 - accuracy: 0.9863 - val_loss: 0.1201 - val_accuracy: 0.9708\n",
            "Epoch 37/100\n",
            "126/126 [==============================] - 1s 11ms/step - loss: 0.0352 - accuracy: 0.9882 - val_loss: 0.1275 - val_accuracy: 0.9746\n",
            "Epoch 38/100\n",
            "126/126 [==============================] - 1s 11ms/step - loss: 0.0321 - accuracy: 0.9892 - val_loss: 0.1330 - val_accuracy: 0.9712\n",
            "Epoch 39/100\n",
            "126/126 [==============================] - 2s 13ms/step - loss: 0.0342 - accuracy: 0.9883 - val_loss: 0.1342 - val_accuracy: 0.9708\n",
            "Epoch 40/100\n",
            "126/126 [==============================] - 1s 11ms/step - loss: 0.0344 - accuracy: 0.9875 - val_loss: 0.1446 - val_accuracy: 0.9686\n",
            "Epoch 41/100\n",
            "126/126 [==============================] - 2s 12ms/step - loss: 0.0329 - accuracy: 0.9892 - val_loss: 0.1241 - val_accuracy: 0.9716\n",
            "Epoch 42/100\n",
            "126/126 [==============================] - 2s 12ms/step - loss: 0.0305 - accuracy: 0.9875 - val_loss: 0.1390 - val_accuracy: 0.9705\n",
            "Epoch 43/100\n",
            "126/126 [==============================] - 2s 13ms/step - loss: 0.0365 - accuracy: 0.9862 - val_loss: 0.1353 - val_accuracy: 0.9686\n",
            "Epoch 44/100\n",
            "126/126 [==============================] - 2s 14ms/step - loss: 0.0345 - accuracy: 0.9865 - val_loss: 0.1305 - val_accuracy: 0.9712\n",
            "Epoch 45/100\n",
            "126/126 [==============================] - 1s 10ms/step - loss: 0.0258 - accuracy: 0.9913 - val_loss: 0.1430 - val_accuracy: 0.9693\n",
            "Epoch 46/100\n",
            "126/126 [==============================] - 1s 10ms/step - loss: 0.0249 - accuracy: 0.9919 - val_loss: 0.1354 - val_accuracy: 0.9708\n",
            "Epoch 47/100\n",
            "126/126 [==============================] - 1s 11ms/step - loss: 0.0351 - accuracy: 0.9882 - val_loss: 0.1415 - val_accuracy: 0.9723\n",
            "Epoch 48/100\n",
            "126/126 [==============================] - 2s 12ms/step - loss: 0.0257 - accuracy: 0.9905 - val_loss: 0.1378 - val_accuracy: 0.9693\n",
            "Epoch 49/100\n",
            "126/126 [==============================] - 2s 15ms/step - loss: 0.0262 - accuracy: 0.9910 - val_loss: 0.1540 - val_accuracy: 0.9693\n",
            "Epoch 50/100\n",
            "126/126 [==============================] - 2s 16ms/step - loss: 0.0266 - accuracy: 0.9912 - val_loss: 0.1239 - val_accuracy: 0.9716\n",
            "Epoch 51/100\n",
            "126/126 [==============================] - 1s 10ms/step - loss: 0.0264 - accuracy: 0.9913 - val_loss: 0.1391 - val_accuracy: 0.9708\n",
            "Epoch 52/100\n",
            "126/126 [==============================] - 1s 11ms/step - loss: 0.0284 - accuracy: 0.9898 - val_loss: 0.1516 - val_accuracy: 0.9712\n",
            "Epoch 53/100\n",
            "126/126 [==============================] - 1s 10ms/step - loss: 0.0253 - accuracy: 0.9918 - val_loss: 0.1454 - val_accuracy: 0.9731\n",
            "Epoch 54/100\n",
            "126/126 [==============================] - 1s 11ms/step - loss: 0.0284 - accuracy: 0.9898 - val_loss: 0.1285 - val_accuracy: 0.9731\n",
            "Epoch 55/100\n",
            "126/126 [==============================] - 1s 11ms/step - loss: 0.0228 - accuracy: 0.9924 - val_loss: 0.1570 - val_accuracy: 0.9731\n",
            "Epoch 56/100\n",
            "126/126 [==============================] - 1s 10ms/step - loss: 0.0236 - accuracy: 0.9915 - val_loss: 0.1582 - val_accuracy: 0.9723\n",
            "Epoch 57/100\n",
            "126/126 [==============================] - 1s 11ms/step - loss: 0.0241 - accuracy: 0.9915 - val_loss: 0.1451 - val_accuracy: 0.9727\n",
            "Epoch 58/100\n",
            "126/126 [==============================] - 1s 10ms/step - loss: 0.0209 - accuracy: 0.9930 - val_loss: 0.1764 - val_accuracy: 0.9712\n",
            "Epoch 59/100\n",
            "126/126 [==============================] - 1s 10ms/step - loss: 0.0165 - accuracy: 0.9943 - val_loss: 0.1397 - val_accuracy: 0.9776\n",
            "Epoch 60/100\n",
            "126/126 [==============================] - 1s 10ms/step - loss: 0.0215 - accuracy: 0.9924 - val_loss: 0.1485 - val_accuracy: 0.9738\n",
            "Epoch 61/100\n",
            "126/126 [==============================] - 1s 10ms/step - loss: 0.0224 - accuracy: 0.9921 - val_loss: 0.1647 - val_accuracy: 0.9671\n",
            "Epoch 62/100\n",
            "126/126 [==============================] - 1s 11ms/step - loss: 0.0262 - accuracy: 0.9914 - val_loss: 0.1495 - val_accuracy: 0.9716\n",
            "Epoch 63/100\n",
            "126/126 [==============================] - 1s 10ms/step - loss: 0.0244 - accuracy: 0.9920 - val_loss: 0.1465 - val_accuracy: 0.9738\n",
            "Epoch 64/100\n",
            "126/126 [==============================] - 1s 10ms/step - loss: 0.0172 - accuracy: 0.9940 - val_loss: 0.1548 - val_accuracy: 0.9742\n",
            "Epoch 65/100\n",
            "126/126 [==============================] - 1s 10ms/step - loss: 0.0193 - accuracy: 0.9925 - val_loss: 0.1595 - val_accuracy: 0.9738\n",
            "Epoch 66/100\n",
            "126/126 [==============================] - 1s 10ms/step - loss: 0.0151 - accuracy: 0.9944 - val_loss: 0.1606 - val_accuracy: 0.9735\n",
            "Epoch 67/100\n",
            "126/126 [==============================] - 1s 11ms/step - loss: 0.0174 - accuracy: 0.9941 - val_loss: 0.1404 - val_accuracy: 0.9764\n",
            "Epoch 68/100\n",
            "126/126 [==============================] - 1s 10ms/step - loss: 0.0175 - accuracy: 0.9938 - val_loss: 0.1485 - val_accuracy: 0.9776\n",
            "Epoch 69/100\n",
            "126/126 [==============================] - 1s 11ms/step - loss: 0.0228 - accuracy: 0.9921 - val_loss: 0.1358 - val_accuracy: 0.9753\n",
            "Epoch 70/100\n",
            "126/126 [==============================] - 1s 10ms/step - loss: 0.0148 - accuracy: 0.9954 - val_loss: 0.1593 - val_accuracy: 0.9727\n",
            "Epoch 71/100\n",
            "126/126 [==============================] - 1s 11ms/step - loss: 0.0170 - accuracy: 0.9940 - val_loss: 0.1591 - val_accuracy: 0.9757\n",
            "Epoch 72/100\n",
            "126/126 [==============================] - 1s 11ms/step - loss: 0.0162 - accuracy: 0.9944 - val_loss: 0.1537 - val_accuracy: 0.9731\n",
            "Epoch 73/100\n",
            "126/126 [==============================] - 1s 10ms/step - loss: 0.0124 - accuracy: 0.9948 - val_loss: 0.1517 - val_accuracy: 0.9742\n",
            "Epoch 74/100\n",
            "126/126 [==============================] - 1s 10ms/step - loss: 0.0148 - accuracy: 0.9950 - val_loss: 0.1393 - val_accuracy: 0.9753\n",
            "Epoch 75/100\n",
            "126/126 [==============================] - 1s 11ms/step - loss: 0.0203 - accuracy: 0.9938 - val_loss: 0.1482 - val_accuracy: 0.9746\n",
            "Epoch 76/100\n",
            "126/126 [==============================] - 1s 10ms/step - loss: 0.0120 - accuracy: 0.9956 - val_loss: 0.1471 - val_accuracy: 0.9753\n",
            "Epoch 77/100\n",
            "126/126 [==============================] - 1s 10ms/step - loss: 0.0144 - accuracy: 0.9950 - val_loss: 0.1587 - val_accuracy: 0.9753\n",
            "Epoch 78/100\n",
            "126/126 [==============================] - 1s 10ms/step - loss: 0.0206 - accuracy: 0.9924 - val_loss: 0.1425 - val_accuracy: 0.9753\n",
            "Epoch 79/100\n",
            "126/126 [==============================] - 1s 11ms/step - loss: 0.0143 - accuracy: 0.9948 - val_loss: 0.1545 - val_accuracy: 0.9761\n",
            "Epoch 80/100\n",
            "126/126 [==============================] - 1s 10ms/step - loss: 0.0145 - accuracy: 0.9945 - val_loss: 0.1426 - val_accuracy: 0.9768\n",
            "Epoch 81/100\n",
            "126/126 [==============================] - 1s 11ms/step - loss: 0.0142 - accuracy: 0.9946 - val_loss: 0.1535 - val_accuracy: 0.9768\n",
            "Epoch 82/100\n",
            "126/126 [==============================] - 1s 11ms/step - loss: 0.0158 - accuracy: 0.9946 - val_loss: 0.1714 - val_accuracy: 0.9716\n",
            "Epoch 83/100\n",
            "126/126 [==============================] - 1s 11ms/step - loss: 0.0114 - accuracy: 0.9970 - val_loss: 0.1595 - val_accuracy: 0.9772\n",
            "Epoch 84/100\n",
            "126/126 [==============================] - 1s 10ms/step - loss: 0.0107 - accuracy: 0.9961 - val_loss: 0.1686 - val_accuracy: 0.9742\n",
            "Epoch 85/100\n",
            "126/126 [==============================] - 1s 10ms/step - loss: 0.0186 - accuracy: 0.9948 - val_loss: 0.1496 - val_accuracy: 0.9776\n",
            "Epoch 86/100\n",
            "126/126 [==============================] - 1s 11ms/step - loss: 0.0221 - accuracy: 0.9938 - val_loss: 0.1473 - val_accuracy: 0.9764\n",
            "Epoch 87/100\n",
            "126/126 [==============================] - 1s 10ms/step - loss: 0.0115 - accuracy: 0.9956 - val_loss: 0.1704 - val_accuracy: 0.9753\n",
            "Epoch 88/100\n",
            "126/126 [==============================] - 1s 11ms/step - loss: 0.0170 - accuracy: 0.9940 - val_loss: 0.1704 - val_accuracy: 0.9723\n",
            "Epoch 89/100\n",
            "126/126 [==============================] - 1s 10ms/step - loss: 0.0099 - accuracy: 0.9969 - val_loss: 0.1555 - val_accuracy: 0.9776\n",
            "Epoch 90/100\n",
            "126/126 [==============================] - 1s 10ms/step - loss: 0.0108 - accuracy: 0.9965 - val_loss: 0.1622 - val_accuracy: 0.9746\n",
            "Epoch 91/100\n",
            "126/126 [==============================] - 1s 10ms/step - loss: 0.0151 - accuracy: 0.9955 - val_loss: 0.1474 - val_accuracy: 0.9746\n",
            "Epoch 92/100\n",
            "126/126 [==============================] - 1s 11ms/step - loss: 0.0210 - accuracy: 0.9930 - val_loss: 0.1520 - val_accuracy: 0.9750\n",
            "Epoch 93/100\n",
            "126/126 [==============================] - 1s 10ms/step - loss: 0.0170 - accuracy: 0.9943 - val_loss: 0.1519 - val_accuracy: 0.9750\n",
            "Epoch 94/100\n",
            "126/126 [==============================] - 1s 10ms/step - loss: 0.0113 - accuracy: 0.9953 - val_loss: 0.1416 - val_accuracy: 0.9776\n",
            "Epoch 95/100\n",
            "126/126 [==============================] - 1s 10ms/step - loss: 0.0124 - accuracy: 0.9964 - val_loss: 0.1595 - val_accuracy: 0.9746\n",
            "Epoch 96/100\n",
            "126/126 [==============================] - 1s 11ms/step - loss: 0.0087 - accuracy: 0.9979 - val_loss: 0.1568 - val_accuracy: 0.9768\n",
            "Epoch 97/100\n",
            "126/126 [==============================] - 1s 11ms/step - loss: 0.0084 - accuracy: 0.9970 - val_loss: 0.1584 - val_accuracy: 0.9753\n",
            "Epoch 98/100\n",
            "126/126 [==============================] - 1s 11ms/step - loss: 0.0128 - accuracy: 0.9959 - val_loss: 0.1586 - val_accuracy: 0.9768\n",
            "Epoch 99/100\n",
            "126/126 [==============================] - 1s 11ms/step - loss: 0.0102 - accuracy: 0.9968 - val_loss: 0.1538 - val_accuracy: 0.9776\n",
            "Epoch 100/100\n",
            "126/126 [==============================] - 1s 11ms/step - loss: 0.0113 - accuracy: 0.9965 - val_loss: 0.1589 - val_accuracy: 0.9768\n"
          ]
        }
      ]
    },
    {
      "cell_type": "markdown",
      "source": [
        "#Evaluating performance of the model¶\n"
      ],
      "metadata": {
        "id": "1lkaWkRoGTW3"
      }
    },
    {
      "cell_type": "code",
      "source": [
        "scores = model.evaluate(x_test, y_test, verbose=1)\n",
        "print('Test loss:', scores[0])\n",
        "print('Test accuracy:', scores[1])"
      ],
      "metadata": {
        "colab": {
          "base_uri": "https://localhost:8080/"
        },
        "id": "6c82Hgp-GJN5",
        "outputId": "22ab2d27-0539-45a5-daec-0410e860719a"
      },
      "execution_count": 12,
      "outputs": [
        {
          "output_type": "stream",
          "name": "stdout",
          "text": [
            "84/84 [==============================] - 0s 4ms/step - loss: 0.1589 - accuracy: 0.9768\n",
            "Test loss: 0.15891283750534058\n",
            "Test accuracy: 0.9768224358558655\n"
          ]
        }
      ]
    },
    {
      "cell_type": "markdown",
      "source": [
        "#Prediction Function:\n",
        "데이터의 가공이 필요. 가공방식은 위에서 처리한 것과 동일하게 처리"
      ],
      "metadata": {
        "id": "oWlH7KW_Gc9v"
      }
    },
    {
      "cell_type": "code",
      "source": [
        "def pred (img_path) :\n",
        "    \n",
        "    # grayscale\n",
        "    img = cv2.imread(img_path, cv2.IMREAD_GRAYSCALE)\n",
        "    \n",
        "    plt.imshow(img, cmap='gray')\n",
        "    plt.axis('off')\n",
        "    plt.show()\n",
        "    \n",
        "    # 위와 동일. adaptiveThreshold -> closing -> dilate -> GaussionBlur 사용\n",
        "    image = cv2.adaptiveThreshold(img, 255, cv2.ADAPTIVE_THRESH_GAUSSIAN_C, cv2.THRESH_BINARY, 145, 0)\n",
        "    kernel = np.ones((5,5),np.uint8)\n",
        "    image = cv2.morphologyEx(image, cv2.MORPH_CLOSE, kernel)\n",
        "    kernel = np.ones((2,2),np.uint8)\n",
        "    image = cv2.dilate(image, kernel, iterations = 1)\n",
        "    image = cv2.GaussianBlur(image, (5,5), 0)\n",
        "    \n",
        "    # 데이터 사이즈 자르기\n",
        "    x = [image[10:50, 30:50], image[10:50, 50:70], image[10:50, 70:90],\n",
        "                  image[10:50, 90:110], image[10:50, 110:130]]\n",
        "    \n",
        "    X_pred = []\n",
        "    for i in range(5) :\n",
        "        X_pred.append(img_to_array(Image.fromarray(x[i])))\n",
        "    \n",
        "    X_pred = np.array(X_pred)\n",
        "    X_pred/= 255.0\n",
        "    \n",
        "    y_pred = model.predict(X_pred)\n",
        "    y_pred = np.argmax(y_pred, axis = 1)\n",
        "    \n",
        "    print('Prediction: ', end='')\n",
        "    for res in y_pred :\n",
        "        print(info[res], end='')\n",
        "        \n",
        "    print('\\nActual: ', img_path[len(img_path)-9:len(img_path)-4])"
      ],
      "metadata": {
        "id": "QolaFBqQGhqn"
      },
      "execution_count": 16,
      "outputs": []
    },
    {
      "cell_type": "code",
      "source": [
        "pred('samples/samples/e4gd7.png')\n"
      ],
      "metadata": {
        "colab": {
          "base_uri": "https://localhost:8080/",
          "height": 151
        },
        "id": "m6wwQUnpGmUm",
        "outputId": "8f322e05-6bc5-4608-9bf6-c1ce7d1a8704"
      },
      "execution_count": 17,
      "outputs": [
        {
          "output_type": "display_data",
          "data": {
            "image/png": "[encoded data removed]",
            "text/plain": [
              "<Figure size 432x288 with 1 Axes>"
            ]
          },
          "metadata": {
            "needs_background": "light"
          }
        },
        {
          "output_type": "stream",
          "name": "stdout",
          "text": [
            "Prediction: e4gd7\n",
            "Actual:  e4gd7\n"
          ]
        }
      ]
    },
    {
      "cell_type": "code",
      "source": [
        "model.save('captcha_recognizer_v1.h5')\n"
      ],
      "metadata": {
        "id": "nNGZLn3jGp4H"
      },
      "execution_count": 15,
      "outputs": []
    }
  ]
}